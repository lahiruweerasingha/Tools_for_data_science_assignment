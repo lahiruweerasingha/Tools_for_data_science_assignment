{
  "cells": [
    {
      "cell_type": "markdown",
      "metadata": {
        "id": "mDvjOPdQM4Aq"
      },
      "source": [
        "<center>\n",
        "    <img src=\"https://cf-courses-data.s3.us.cloud-object-storage.appdomain.cloud/IBMDeveloperSkillsNetwork-DS0105EN-SkillsNetwork/labs/Module2/images/SN_web_lightmode.png\" width=\"300\" alt=\"cognitiveclass.ai logo\">\n",
        "</center>\n"
      ]
    },
    {
      "cell_type": "markdown",
      "metadata": {
        "tags": [],
        "id": "O7Q-IiRrM4Av"
      },
      "source": [
        "#### Add your code below following the instructions given in the course\n"
      ]
    },
    {
      "cell_type": "markdown",
      "metadata": {
        "id": "7sPRextPM4Aw"
      },
      "source": [
        "**Exercise 2: Create markdown cell with title of the notebook**"
      ]
    },
    {
      "cell_type": "markdown",
      "metadata": {
        "id": "9Vsq3UOYM4Ax"
      },
      "source": [
        "<h1> Final Assignment on Tools for Data Science"
      ]
    },
    {
      "cell_type": "markdown",
      "metadata": {
        "id": "-p8eeD3nM4Ax"
      },
      "source": [
        "**Exercise 3 - Create a markdown cell for an introduction**"
      ]
    },
    {
      "cell_type": "markdown",
      "metadata": {
        "id": "mhKctDInM4Ay"
      },
      "source": [
        "This notebook is the answer for final assignment for \"Tools for data science\". This is a sub-course coming under \"IBM Professional Certificate for Data Science\""
      ]
    },
    {
      "cell_type": "markdown",
      "metadata": {
        "id": "NBsatKNjM4Ay"
      },
      "source": [
        "**Exercise 10 - Insert a markdown cell to list Objectives**"
      ]
    },
    {
      "cell_type": "markdown",
      "metadata": {
        "id": "_FgGKE3-M4Az"
      },
      "source": [
        "Objectives:\n",
        "- List languages for Data Science\n",
        "- List tools for Data Science\n",
        "- Show arithmetic expressions in python\n",
        "- Learn about markdown\n",
        "- Learn about Jupyter Notebooks"
      ]
    },
    {
      "cell_type": "markdown",
      "metadata": {
        "id": "E3royJtXM4Az"
      },
      "source": [
        "**Exercise 4 - Create a markdown cell to list data science languages**"
      ]
    },
    {
      "cell_type": "markdown",
      "metadata": {
        "id": "0dqM3FCEM4A0"
      },
      "source": [
        "Popular languages for Data Science:\n",
        "1. Pyhton\n",
        "2. R\n",
        "3. Julia\n",
        "4. Go\n",
        "5. SQL"
      ]
    },
    {
      "cell_type": "markdown",
      "metadata": {
        "id": "3p9IhDumM4A0"
      },
      "source": [
        "**Exercise 5 - Create a markdown cell to list data science libraries**"
      ]
    },
    {
      "cell_type": "markdown",
      "metadata": {
        "id": "5MTcn80tM4A1"
      },
      "source": [
        "Some of the commonly used libraries used by Data Scientists include:\n",
        "1. Pandas\n",
        "2. Matplotlib\n",
        "3. Scikit-learn\n",
        "4. Numpy\n",
        "5. Seaborn"
      ]
    },
    {
      "cell_type": "markdown",
      "metadata": {
        "id": "8_0JKmAbM4A1"
      },
      "source": [
        "**Exercise 6 - Create a markdown cell with a table of Data Science tools**"
      ]
    },
    {
      "cell_type": "markdown",
      "metadata": {
        "tags": [],
        "id": "YRUQ4JxuM4A1"
      },
      "source": [
        "| Data Science Tools |\n",
        "| ------------------ |\n",
        "|Jupyter Labs|\n",
        "|GitHub|\n",
        "|R Studio|\n"
      ]
    },
    {
      "cell_type": "markdown",
      "metadata": {
        "id": "8sD6Uqk0M4A1"
      },
      "source": [
        "**Exercise 7 - Create a markdown cell introducing arithmetic expression examples**"
      ]
    },
    {
      "cell_type": "markdown",
      "metadata": {
        "id": "dgGhovOqM4A2"
      },
      "source": [
        "<h3> Below are a few examples of evaluating arithmetic expressions in Python."
      ]
    },
    {
      "cell_type": "markdown",
      "metadata": {
        "id": "Up2YOZKLM4A2"
      },
      "source": [
        "**Exercise 8 - Create a code cell to multiply and add numbers**"
      ]
    },
    {
      "cell_type": "code",
      "execution_count": 1,
      "metadata": {
        "tags": [],
        "colab": {
          "base_uri": "https://localhost:8080/"
        },
        "id": "S5MR7qfzM4A2",
        "outputId": "83a67bab-564f-42bb-f882-b2796e8ca5b8"
      },
      "outputs": [
        {
          "output_type": "execute_result",
          "data": {
            "text/plain": [
              "15"
            ]
          },
          "metadata": {},
          "execution_count": 1
        }
      ],
      "source": [
        "# This a simple arithmetic expression to mutiply then add integers\n",
        "(2*4)+7"
      ]
    },
    {
      "cell_type": "markdown",
      "metadata": {
        "id": "EpF8oafQM4A4"
      },
      "source": [
        "**Exercise 9 - Create a code cell to convert minutes to hours**"
      ]
    },
    {
      "cell_type": "code",
      "execution_count": 2,
      "metadata": {
        "tags": [],
        "colab": {
          "base_uri": "https://localhost:8080/"
        },
        "id": "UbRoR3WTM4A5",
        "outputId": "56b8a40d-87bb-4de7-fdb5-5da255873827"
      },
      "outputs": [
        {
          "output_type": "execute_result",
          "data": {
            "text/plain": [
              "12.0"
            ]
          },
          "metadata": {},
          "execution_count": 2
        }
      ],
      "source": [
        "# This will convert 720 minutes to hours by diving by 60\n",
        "720/60"
      ]
    },
    {
      "cell_type": "markdown",
      "metadata": {
        "id": "H706XtgHM4A5"
      },
      "source": [
        "**Exercise 11 - Create a markdown cell to indicate the Author's name**"
      ]
    },
    {
      "cell_type": "markdown",
      "metadata": {
        "tags": [],
        "id": "Qe6Hw9TvM4A5"
      },
      "source": [
        "<h2> Author </h2>\n",
        "Lahiru Weerasingha"
      ]
    },
    {
      "cell_type": "code",
      "source": [],
      "metadata": {
        "id": "f4ZJB9ILOuEy"
      },
      "execution_count": null,
      "outputs": []
    }
  ],
  "metadata": {
    "kernelspec": {
      "display_name": "Python",
      "language": "python",
      "name": "conda-env-python-py"
    },
    "language_info": {
      "codemirror_mode": {
        "name": "ipython",
        "version": 3
      },
      "file_extension": ".py",
      "mimetype": "text/x-python",
      "name": "python",
      "nbconvert_exporter": "python",
      "pygments_lexer": "ipython3",
      "version": "3.7.12"
    },
    "colab": {
      "provenance": []
    }
  },
  "nbformat": 4,
  "nbformat_minor": 0
}